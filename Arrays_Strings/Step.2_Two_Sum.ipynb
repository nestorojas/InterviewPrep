{
 "cells": [
  {
   "cell_type": "markdown",
   "metadata": {},
   "source": [
    "# Problem #1: Two Sum  \n",
    "## Objective: \n",
    "Given an array of integers nums and an integer target, return indices of the two numbers such that they add up to target.\n",
    "\n",
    "You may assume that each input would have exactly one solution, and you may not use the same element twice.\n",
    "\n",
    "You can return the answer in any order."
   ]
  },
  {
   "cell_type": "markdown",
   "metadata": {},
   "source": [
    "Input: nums = [2, 7, 11, 15], target = 9  \n",
    "Output: [0, 1]  \n",
    "Explanation: nums[0] + nums[1] = 2 + 7 = 9  \n",
    "\n",
    "## Constraints\n",
    "\n",
    "\t•\tEach input would have exactly one solution.\n",
    "\t•\tYou may not use the same element twice.\n",
    "\t•\tThe solution must work in O(n) time complexity."
   ]
  },
  {
   "cell_type": "markdown",
   "metadata": {},
   "source": [
    "## Approach\n",
    "1.\tBrute Force (O(n²)):\n",
    "\t•\tUse two nested loops to check every pair of numbers in the array.\n",
    "\n",
    "2.\tOptimized Hash Map (O(n)):\n",
    "\t•\tIterate through the array and store each number’s complement (target - nums[i]) in a hash map.\n",
    "\t•\tIf the current number exists in the hash map, you’ve found the solution.\n"
   ]
  },
  {
   "cell_type": "markdown",
   "metadata": {},
   "source": [
    "# Hash Maps (Hash Tables)\n",
    "\n",
    "A **Hash Map** (or **Hash Table**) is a data structure that maps **keys** to **values** for efficient lookup, insertion, and deletion operations. It uses a hash function to compute an index (or hash code) where the value is stored, allowing for fast access to the value associated with a given key.\n",
    "\n",
    "## Key Concepts\n",
    "\n",
    "1. **Key-Value Pair**:\n",
    "   - A hash map stores data as pairs: a unique **key** and its corresponding **value**.\n",
    "   - Example: In a hash map, a key could be `\"apple\"`, and the value might be the price of an apple, like `1.2`.\n",
    "\n",
    "2. **Hash Function**:\n",
    "   - The hash function converts the **key** into an integer, which serves as an index in an underlying array (called a **bucket**).\n",
    "   - Ideally, the hash function should distribute keys uniformly across the array to minimize collisions.\n",
    "\n",
    "3. **Buckets**:\n",
    "   - These are the locations in the array where the key-value pairs are stored. Multiple keys may map to the same bucket if there are collisions.\n",
    "\n",
    "4. **Collision**:\n",
    "   - A **collision** occurs when two different keys hash to the same index.\n",
    "   - **Handling collisions** can be done using methods like **chaining** (linked lists at each bucket) or **open addressing** (probing to find the next available bucket).\n",
    "\n",
    "---\n",
    "\n",
    "## Properties of Hash Maps\n",
    "\n",
    "1. **Fast Lookup**:\n",
    "   - Hash maps provide **O(1)** average-time complexity for lookups, meaning retrieving a value using a key is fast, even with large data sets.\n",
    "   - This is because the hash function quickly computes the index where the value is stored.\n",
    "\n",
    "2. **Fast Insertion and Deletion**:\n",
    "   - Inserting a new key-value pair and deleting an existing pair also generally takes **O(1)** time.\n",
    "   - This is efficient compared to other data structures like arrays or linked lists, where insertion and deletion might take **O(n)** time.\n",
    "\n",
    "3. **Unordered**:\n",
    "   - A hash map does not maintain the order of the key-value pairs. The keys are hashed to specific locations, so the order in which you insert or retrieve them might differ.\n",
    "\n",
    "4. **Handles Duplicates**:\n",
    "   - A hash map cannot have duplicate keys. If you try to insert a key that already exists, the existing key-value pair is updated with the new value.\n",
    "\n",
    "5. **Dynamic Resizing**:\n",
    "   - To maintain performance as the map grows, many hash map implementations resize (rehash) the underlying array when the number of elements exceeds a certain threshold. This ensures the load factor (ratio of elements to buckets) remains balanced.\n",
    "\n",
    "---\n",
    "\n",
    "## Example of a Hash Map in Python (using `dict`)\n",
    "\n",
    "Python’s built-in `dict` is a hash map. Here’s an example:\n",
    "\n",
    "```python\n",
    "# Create a hash map (dict)\n",
    "my_map = {}\n",
    "\n",
    "# Insert key-value pairs\n",
    "my_map[\"apple\"] = 1.2\n",
    "my_map[\"banana\"] = 0.5\n",
    "my_map[\"cherry\"] = 2.0\n",
    "\n",
    "# Retrieve value by key\n",
    "print(my_map[\"banana\"])  # Output: 0.5\n",
    "\n",
    "# Check if a key exists\n",
    "if \"apple\" in my_map:\n",
    "    print(\"Apple exists in the map\")\n",
    "\n",
    "# Delete a key-value pair\n",
    "del my_map[\"cherry\"]\n",
    "\n",
    "## Time Complexity for Operations\n",
    "\n",
    "The time complexity of the basic operations in a hash map is generally **O(1)** for most cases. However, it can degrade in rare scenarios when collisions occur. Here is a summary of the typical time complexity for common hash map operations:\n",
    "\n",
    "| **Operation**       | **Time Complexity** |\n",
    "|---------------------|---------------------|\n",
    "| **Lookup**          | O(1)                |\n",
    "| **Insertion**       | O(1)                |\n",
    "| **Deletion**        | O(1)                |\n",
    "| **Search for Key**  | O(1)                |\n",
    "\n",
    "### Important Notes:\n",
    "- **O(1)** indicates **constant time** operations, meaning that the time to complete the operation does not depend on the number of elements in the hash map.\n",
    "- If there are many collisions, the worst-case time complexity can degrade to **O(n)**, where **n** is the number of elements in the hash map. This can occur if all the keys hash to the same index, but this is rare with a good hash function.\n",
    "- **Rehashing** (resizing the array to maintain load factor) can temporarily affect performance but is generally handled efficiently."
   ]
  },
  {
   "cell_type": "code",
   "execution_count": 1,
   "metadata": {},
   "outputs": [],
   "source": [
    "def two_sum(nums, target):\n",
    "    # Dictionary to store complements and their indices\n",
    "    complements = {}\n",
    "    #This dictionary will store the complement (the number needed to reach the target) as the key and the index of the number as the value.\n",
    "\t#For example, if target = 9 and nums[i] = 2, then complement = 9 - 2 = 7. You would store 7 in the dictionary as the key, with the index of 2 as the value.\n",
    "    \n",
    "    for i, num in enumerate(nums):\n",
    "        #i is the index of the current number (num) in the array.\n",
    "\t    # This loop will go through each number in the array once.\n",
    "\n",
    "        complement = target - num\n",
    "        # For each number in the array, calculate what number you would need to add to it to reach the target.\n",
    "        # Example: If the target = 9 and num = 2, then complement = 9 - 2 = 7.\n",
    "\n",
    "        if complement in complements:\n",
    "            return [complements[complement], i]\n",
    "        # Before adding num to the dictionary, check if its complement is already there.\n",
    "        # If it is, you’ve found the two numbers:\n",
    "        # complements[complement] gives you the index of the complement.\n",
    "        # i is the index of the current number.\n",
    "\n",
    "        complements[num] = i\n",
    "        # If the complement isn’t found, add the current number (num) to the dictionary, using its index (i) as the value.\n",
    "        # This allows the algorithm to find complements in future iterations.\n",
    "\n",
    "    return [] \n",
    "    # Just in case there’s no solution (though constraints say one exists)"
   ]
  },
  {
   "cell_type": "code",
   "execution_count": 2,
   "metadata": {},
   "outputs": [
    {
     "name": "stdout",
     "output_type": "stream",
     "text": [
      "Test Case 1: nums = [2, 7, 11, 15], target = 9 -> Output: [0, 1]\n",
      "Test Case 2: nums = [3, 2, 4], target = 6 -> Output: [1, 2]\n",
      "Test Case 3: nums = [3, 3], target = 6 -> Output: [0, 1]\n",
      "Test Case 4: nums = [1, 5, 7, 2, 3], target = 8 -> Output: [0, 2]\n"
     ]
    }
   ],
   "source": [
    "# Test Cases\n",
    "nums_list = [\n",
    "    ([2, 7, 11, 15], 9),  # Expected Output: [0, 1]\n",
    "    ([3, 2, 4], 6),       # Expected Output: [1, 2]\n",
    "    ([3, 3], 6),          # Expected Output: [0, 1]\n",
    "    ([1, 5, 7, 2, 3], 8)  # Expected Output: [1, 4]\n",
    "]\n",
    "\n",
    "for i, (nums, target) in enumerate(nums_list, start=1):\n",
    "    print(f\"Test Case {i}: nums = {nums}, target = {target} -> Output: {two_sum(nums, target)}\")"
   ]
  }
 ],
 "metadata": {
  "kernelspec": {
   "display_name": "dsi_participant",
   "language": "python",
   "name": "python3"
  },
  "language_info": {
   "codemirror_mode": {
    "name": "ipython",
    "version": 3
   },
   "file_extension": ".py",
   "mimetype": "text/x-python",
   "name": "python",
   "nbconvert_exporter": "python",
   "pygments_lexer": "ipython3",
   "version": "3.9.19"
  }
 },
 "nbformat": 4,
 "nbformat_minor": 2
}
