{
 "cells": [
  {
   "cell_type": "markdown",
   "metadata": {},
   "source": [
    "# Problem #1: Find the Maximum Element in an Array  \n",
    "## Objective:  \n",
    "Write a function to find and return the maximum element in a given array.  \n",
    "\n",
    "### Example:  \n",
    "Input: [3, 1, 4, 1, 5, 9, 2, 6, 5]  \n",
    "Output: 9  "
   ]
  },
  {
   "cell_type": "code",
   "execution_count": 1,
   "metadata": {},
   "outputs": [],
   "source": [
    "def find_maximum(arr):\n",
    "    if not arr:  # Handle edge case of an empty array\n",
    "        return None\n",
    "    max_element = arr[0]\n",
    "    for num in arr:\n",
    "        if num > max_element:\n",
    "            max_element = num\n",
    "    return max_element"
   ]
  },
  {
   "cell_type": "markdown",
   "metadata": {},
   "source": [
    "## Test Cases\n",
    "1. Sorted Array: [1, 2, 3, 4, 5]  \n",
    "2. Unsorted Array: [3, 7, 2, 8, 6]  \n",
    "3. Array with Duplicates: [4, 4, 4, 4]  \n",
    "4. Single Element: [10]  "
   ]
  },
  {
   "cell_type": "code",
   "execution_count": 2,
   "metadata": {},
   "outputs": [
    {
     "name": "stdout",
     "output_type": "stream",
     "text": [
      "Test Case 1: Input: [1, 2, 3, 4, 5] -> Output: 5\n",
      "Test Case 2: Input: [3, 7, 2, 8, 6] -> Output: 8\n",
      "Test Case 3: Input: [4, 4, 4, 4] -> Output: 4\n",
      "Test Case 4: Input: [10] -> Output: 10\n"
     ]
    }
   ],
   "source": [
    "# Test Cases\n",
    "test_arrays = [\n",
    "    [1, 2, 3, 4, 5],\n",
    "    [3, 7, 2, 8, 6],\n",
    "    [4, 4, 4, 4],\n",
    "    [10]\n",
    "]\n",
    "\n",
    "for i, test in enumerate(test_arrays, start=1):\n",
    "    print(f\"Test Case {i}: Input: {test} -> Output: {find_maximum(test)}\")"
   ]
  },
  {
   "cell_type": "markdown",
   "metadata": {},
   "source": [
    "## Edge Cases\n",
    "1. Empty Array: []  \n",
    "   - Expected Output: None  \n",
    "2. Large Array: [i for i in range(1, 1000001)]  \n",
    "   - Expected Output: 1000000  \n",
    "\n",
    "### Analysis:\n",
    "- Time Complexity: O(n), where n is the size of the array.  \n",
    "- Space Complexity: O(1), as we use a constant amount of extra space.  "
   ]
  }
 ],
 "metadata": {
  "kernelspec": {
   "display_name": "dsi_participant",
   "language": "python",
   "name": "python3"
  },
  "language_info": {
   "codemirror_mode": {
    "name": "ipython",
    "version": 3
   },
   "file_extension": ".py",
   "mimetype": "text/x-python",
   "name": "python",
   "nbconvert_exporter": "python",
   "pygments_lexer": "ipython3",
   "version": "3.9.19"
  }
 },
 "nbformat": 4,
 "nbformat_minor": 2
}
